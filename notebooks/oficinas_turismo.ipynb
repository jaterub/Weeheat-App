{
 "cells": [
  {
   "cell_type": "code",
   "execution_count": 62,
   "metadata": {},
   "outputs": [],
   "source": [
    "import pandas as pd\n",
    "import numpy as np\n",
    "pd.set_option('display.max_colwidth', None)\n",
    "\n"
   ]
  },
  {
   "cell_type": "code",
   "execution_count": 63,
   "metadata": {},
   "outputs": [
    {
     "data": {
      "text/plain": [
       "(35, 33)"
      ]
     },
     "execution_count": 63,
     "metadata": {},
     "output_type": "execute_result"
    }
   ],
   "source": [
    "import pandas as pd\n",
    "\n",
    "df = pd.read_csv('../data/madrid/oficinas_turismo/206577-0-oficinas-turismo.csv', sep=';')\n",
    "df.shape\n",
    "\n",
    "\n"
   ]
  },
  {
   "cell_type": "code",
   "execution_count": 64,
   "metadata": {},
   "outputs": [
    {
     "data": {
      "text/plain": [
       "16"
      ]
     },
     "execution_count": 64,
     "metadata": {},
     "output_type": "execute_result"
    }
   ],
   "source": [
    "df['HORARIO'].isna().sum()"
   ]
  },
  {
   "cell_type": "code",
   "execution_count": 65,
   "metadata": {},
   "outputs": [
    {
     "data": {
      "text/html": [
       "<div>\n",
       "<style scoped>\n",
       "    .dataframe tbody tr th:only-of-type {\n",
       "        vertical-align: middle;\n",
       "    }\n",
       "\n",
       "    .dataframe tbody tr th {\n",
       "        vertical-align: top;\n",
       "    }\n",
       "\n",
       "    .dataframe thead th {\n",
       "        text-align: right;\n",
       "    }\n",
       "</style>\n",
       "<table border=\"1\" class=\"dataframe\">\n",
       "  <thead>\n",
       "    <tr style=\"text-align: right;\">\n",
       "      <th></th>\n",
       "      <th>PK</th>\n",
       "      <th>NOMBRE</th>\n",
       "      <th>DESCRIPCION-ENTIDAD</th>\n",
       "      <th>HORARIO</th>\n",
       "      <th>EQUIPAMIENTO</th>\n",
       "      <th>TRANSPORTE</th>\n",
       "      <th>DESCRIPCION</th>\n",
       "      <th>ACCESIBILIDAD</th>\n",
       "      <th>CONTENT-URL</th>\n",
       "      <th>NOMBRE-VIA</th>\n",
       "      <th>CLASE-VIAL</th>\n",
       "      <th>TIPO-NUM</th>\n",
       "      <th>NUM</th>\n",
       "      <th>PLANTA</th>\n",
       "      <th>PUERTA</th>\n",
       "      <th>ESCALERAS</th>\n",
       "      <th>ORIENTACION</th>\n",
       "      <th>LOCALIDAD</th>\n",
       "      <th>PROVINCIA</th>\n",
       "      <th>CODIGO-POSTAL</th>\n",
       "      <th>COD-BARRIO</th>\n",
       "      <th>BARRIO</th>\n",
       "      <th>COD-DISTRITO</th>\n",
       "      <th>DISTRITO</th>\n",
       "      <th>COORDENADA-X</th>\n",
       "      <th>COORDENADA-Y</th>\n",
       "      <th>LATITUD</th>\n",
       "      <th>LONGITUD</th>\n",
       "      <th>TELEFONO</th>\n",
       "      <th>FAX</th>\n",
       "      <th>EMAIL</th>\n",
       "      <th>TIPO</th>\n",
       "      <th>Unnamed: 32</th>\n",
       "    </tr>\n",
       "  </thead>\n",
       "  <tbody>\n",
       "    <tr>\n",
       "      <th>0</th>\n",
       "      <td>7805</td>\n",
       "      <td>Centro de Turismo Plaza Mayor</td>\n",
       "      <td>Madrid cuenta en el Salón de Columnas de la Casa de la Panadería de la céntrica Plaza Mayor con uno de los más modernos centros turísticos del país que ofrece atención especializada con una plantilla de profesionales expertos en turismo e idiomas que atiende personalmente a los visitantes y da respuesta también a todas las peticiones de información que se realizan de manera no presencial. Centro de turismo cofinanciado por el Fondo Europeo de Desarrollo Regional.</td>\n",
       "      <td>Horario de atención al público de 9:30 a 20:30 horas, todos los días del año. Horario taquilla: martes a domingo de 10:30 a 14:30 y de 16:30 a 20:30 h. Lunes cerrado.</td>\n",
       "      <td>Atención presencial en varios idiomas  Atención especializada  Servicio de atención no presencial (teléfono 915 787 810 y email turismo@esmadrid.com) Atención por Whatsapp 619 111 094 Autoconsulta con folletos descargables mediante código QR Wifi gratuita Taquilla de Teatros Municipales (abierta de martes a domingo, de 10:30 a 14:30 y de 16:30 a 20:30 horas) Punto de venta del Madrid City Tour (solo pago con tarjeta de crédito)  Tienda con recuerdos y artesanías madrileñas (solo pago con tarjeta de crédito)   Accesibilidad:     Programa de visitas guiadas accesibles (previa reserva)     Lengua de Signos Española     Bucles magnéticos (3)     Encaminamientos podotáctiles     Apoyos isquiáticos     Plano háptico     Mostrador adaptado     Guía de Turismo Accesible     Área tecnológica: Audiovisuales  El Centro de Turismo de Plaza Mayor está certificado en la UNE 170001-2 de Accesibilidad Universal.</td>\n",
       "      <td>Metro: Sol (líneas 1, 2, 3), Ópera (línea 2, 5, Ramal)  Bus: 17, 18, 23, 31, 50, 65  Renfe: Sol (líneas C3, C4)  Bicimad: Estaciones 31  (calle Mayor, 20),  32 (plaza Provincia , 1 )    Parking: Plaza Mayor (55), Plaza Mayor</td>\n",
       "      <td>NaN</td>\n",
       "      <td>1,4,5,6</td>\n",
       "      <td>http://www.madrid.es/sites/v/index.jsp?vgnextchannel=bfa48ab43d6bb410VgnVCM100000171f5a0aRCRD&amp;vgnextoid=b0a093e5fd61c010VgnVCM1000000b205a0aRCRD</td>\n",
       "      <td>MAYOR</td>\n",
       "      <td>PLAZA</td>\n",
       "      <td>V</td>\n",
       "      <td>27</td>\n",
       "      <td>NaN</td>\n",
       "      <td>NaN</td>\n",
       "      <td>NaN</td>\n",
       "      <td>Casa de la Panadería</td>\n",
       "      <td>MADRID</td>\n",
       "      <td>MADRID</td>\n",
       "      <td>28012</td>\n",
       "      <td>6</td>\n",
       "      <td>SOL</td>\n",
       "      <td>1</td>\n",
       "      <td>CENTRO</td>\n",
       "      <td>439983</td>\n",
       "      <td>4474154</td>\n",
       "      <td>40.415839</td>\n",
       "      <td>-3.707426</td>\n",
       "      <td>915 787 810</td>\n",
       "      <td>NaN</td>\n",
       "      <td>turismo@esmadrid.com</td>\n",
       "      <td>/contenido/entidadesYorganismos/OficinasTurismo</td>\n",
       "      <td></td>\n",
       "    </tr>\n",
       "  </tbody>\n",
       "</table>\n",
       "</div>"
      ],
      "text/plain": [
       "     PK                         NOMBRE  \\\n",
       "0  7805  Centro de Turismo Plaza Mayor   \n",
       "\n",
       "                                                                                                                                                                                                                                                                                                                                                                                                                                                                   DESCRIPCION-ENTIDAD  \\\n",
       "0  Madrid cuenta en el Salón de Columnas de la Casa de la Panadería de la céntrica Plaza Mayor con uno de los más modernos centros turísticos del país que ofrece atención especializada con una plantilla de profesionales expertos en turismo e idiomas que atiende personalmente a los visitantes y da respuesta también a todas las peticiones de información que se realizan de manera no presencial. Centro de turismo cofinanciado por el Fondo Europeo de Desarrollo Regional.   \n",
       "\n",
       "                                                                                                                                                                  HORARIO  \\\n",
       "0  Horario de atención al público de 9:30 a 20:30 horas, todos los días del año. Horario taquilla: martes a domingo de 10:30 a 14:30 y de 16:30 a 20:30 h. Lunes cerrado.   \n",
       "\n",
       "                                                                                                                                                                                                                                                                                                                                                                                                                                                                                                                                                                                                                                                                                                                                                                                                                                                                                                                                    EQUIPAMIENTO  \\\n",
       "0  Atención presencial en varios idiomas  Atención especializada  Servicio de atención no presencial (teléfono 915 787 810 y email turismo@esmadrid.com) Atención por Whatsapp 619 111 094 Autoconsulta con folletos descargables mediante código QR Wifi gratuita Taquilla de Teatros Municipales (abierta de martes a domingo, de 10:30 a 14:30 y de 16:30 a 20:30 horas) Punto de venta del Madrid City Tour (solo pago con tarjeta de crédito)  Tienda con recuerdos y artesanías madrileñas (solo pago con tarjeta de crédito)   Accesibilidad:     Programa de visitas guiadas accesibles (previa reserva)     Lengua de Signos Española     Bucles magnéticos (3)     Encaminamientos podotáctiles     Apoyos isquiáticos     Plano háptico     Mostrador adaptado     Guía de Turismo Accesible     Área tecnológica: Audiovisuales  El Centro de Turismo de Plaza Mayor está certificado en la UNE 170001-2 de Accesibilidad Universal.   \n",
       "\n",
       "                                                                                                                                                                                                                         TRANSPORTE  \\\n",
       "0  Metro: Sol (líneas 1, 2, 3), Ópera (línea 2, 5, Ramal)  Bus: 17, 18, 23, 31, 50, 65  Renfe: Sol (líneas C3, C4)  Bicimad: Estaciones 31  (calle Mayor, 20),  32 (plaza Provincia , 1 )    Parking: Plaza Mayor (55), Plaza Mayor   \n",
       "\n",
       "  DESCRIPCION ACCESIBILIDAD  \\\n",
       "0         NaN       1,4,5,6   \n",
       "\n",
       "                                                                                                                                        CONTENT-URL  \\\n",
       "0  http://www.madrid.es/sites/v/index.jsp?vgnextchannel=bfa48ab43d6bb410VgnVCM100000171f5a0aRCRD&vgnextoid=b0a093e5fd61c010VgnVCM1000000b205a0aRCRD   \n",
       "\n",
       "  NOMBRE-VIA CLASE-VIAL TIPO-NUM  NUM PLANTA PUERTA  ESCALERAS  \\\n",
       "0      MAYOR      PLAZA        V   27    NaN    NaN        NaN   \n",
       "\n",
       "            ORIENTACION LOCALIDAD PROVINCIA  CODIGO-POSTAL  COD-BARRIO BARRIO  \\\n",
       "0  Casa de la Panadería    MADRID    MADRID          28012           6    SOL   \n",
       "\n",
       "   COD-DISTRITO DISTRITO  COORDENADA-X  COORDENADA-Y    LATITUD  LONGITUD  \\\n",
       "0             1   CENTRO        439983       4474154  40.415839 -3.707426   \n",
       "\n",
       "      TELEFONO  FAX                 EMAIL  \\\n",
       "0  915 787 810  NaN  turismo@esmadrid.com   \n",
       "\n",
       "                                              TIPO Unnamed: 32  \n",
       "0  /contenido/entidadesYorganismos/OficinasTurismo              "
      ]
     },
     "execution_count": 65,
     "metadata": {},
     "output_type": "execute_result"
    }
   ],
   "source": [
    "df.head(1)"
   ]
  },
  {
   "cell_type": "code",
   "execution_count": 66,
   "metadata": {},
   "outputs": [
    {
     "data": {
      "text/plain": [
       "array(['CENTRO', 'CHAMBERI', 'SALAMANCA', 'RETIRO', 'CHAMARTIN',\n",
       "       'MONCLOA-ARAVACA', 'TETUAN', 'BARAJAS', 'ARGANZUELA'], dtype=object)"
      ]
     },
     "execution_count": 66,
     "metadata": {},
     "output_type": "execute_result"
    }
   ],
   "source": [
    "df[\"DISTRITO\"].unique()"
   ]
  },
  {
   "cell_type": "code",
   "execution_count": 67,
   "metadata": {},
   "outputs": [],
   "source": [
    "df = df.loc[df[\"DISTRITO\"].isin([\"CENTRO\", 'CHAMBERI', 'RETIRO','ARGANZUELA','SALAMANCA'])]"
   ]
  },
  {
   "cell_type": "code",
   "execution_count": 68,
   "metadata": {},
   "outputs": [
    {
     "data": {
      "text/plain": [
       "Index(['PK', 'NOMBRE', 'DESCRIPCION-ENTIDAD', 'HORARIO', 'EQUIPAMIENTO',\n",
       "       'TRANSPORTE', 'DESCRIPCION', 'ACCESIBILIDAD', 'CONTENT-URL',\n",
       "       'NOMBRE-VIA', 'CLASE-VIAL', 'TIPO-NUM', 'NUM', 'PLANTA', 'PUERTA',\n",
       "       'ESCALERAS', 'ORIENTACION', 'LOCALIDAD', 'PROVINCIA', 'CODIGO-POSTAL',\n",
       "       'COD-BARRIO', 'BARRIO', 'COD-DISTRITO', 'DISTRITO', 'COORDENADA-X',\n",
       "       'COORDENADA-Y', 'LATITUD', 'LONGITUD', 'TELEFONO', 'FAX', 'EMAIL',\n",
       "       'TIPO', 'Unnamed: 32'],\n",
       "      dtype='object')"
      ]
     },
     "execution_count": 68,
     "metadata": {},
     "output_type": "execute_result"
    }
   ],
   "source": [
    "df.columns"
   ]
  },
  {
   "cell_type": "code",
   "execution_count": 69,
   "metadata": {},
   "outputs": [
    {
     "data": {
      "text/plain": [
       "19"
      ]
     },
     "execution_count": 69,
     "metadata": {},
     "output_type": "execute_result"
    }
   ],
   "source": [
    "df['DESCRIPCION-ENTIDAD'].isna().sum()"
   ]
  },
  {
   "attachments": {
    "image.png": {
     "image/png": "[encoded data removed]"
    }
   },
   "cell_type": "markdown",
   "metadata": {},
   "source": [
    "![image.png](attachment:image.png)"
   ]
  },
  {
   "cell_type": "code",
   "execution_count": 70,
   "metadata": {},
   "outputs": [
    {
     "data": {
      "text/plain": [
       "24"
      ]
     },
     "execution_count": 70,
     "metadata": {},
     "output_type": "execute_result"
    }
   ],
   "source": [
    "df['DESCRIPCION'].isna().sum()"
   ]
  },
  {
   "cell_type": "code",
   "execution_count": 71,
   "metadata": {},
   "outputs": [],
   "source": [
    "pd.set_option('display.max_columns', None)"
   ]
  },
  {
   "cell_type": "markdown",
   "metadata": {},
   "source": [
    "#### Añado columna ['DESCRIPCION-ENTIDAD','NOMBRE-VIA', 'CLASE-VIAL', 'TIPO-NUM', 'NUM', 'PLANTA', 'PUERTA','ESCALERAS', 'ORIENTACION', 'LOCALIDAD', 'PROVINCIA', 'CODIGO-POSTAL'] en df para segunda ronda de csv...."
   ]
  },
  {
   "cell_type": "code",
   "execution_count": 72,
   "metadata": {},
   "outputs": [],
   "source": [
    "df = df[['NOMBRE-VIA', 'CLASE-VIAL', 'TIPO-NUM', 'NUM', 'PLANTA', 'PUERTA',\n",
    "       'ESCALERAS', 'ORIENTACION', 'LOCALIDAD', 'PROVINCIA', 'CODIGO-POSTAL','NOMBRE','DESCRIPCION-ENTIDAD','TRANSPORTE','LATITUD','LONGITUD','COORDENADA-Y','COORDENADA-X','TELEFONO','EMAIL']]"
   ]
  },
  {
   "cell_type": "code",
   "execution_count": 73,
   "metadata": {},
   "outputs": [],
   "source": [
    "df_TRANSPORTE = df[['TRANSPORTE']]"
   ]
  },
  {
   "cell_type": "code",
   "execution_count": 75,
   "metadata": {},
   "outputs": [],
   "source": [
    "# Asumiendo que ya tienes un dataframe llamado df con una columna \"TRANSPORTE\"\n",
    "\n",
    "# Crea una lista de medios de transporte\n",
    "transportes = ['Metro', 'Bus', 'Renfe', 'Bicimad', 'Parking', 'Aparcamiento']\n",
    "\n",
    "# Crea una columna para cada medio de transporte\n",
    "for transporte in transportes:\n",
    "    df[transporte] = ''\n",
    "\n",
    "# Itera sobre cada fila del dataframe\n",
    "for i, row in df.iterrows():\n",
    "    # Divide la cadena en la columna \"TRANSPORTE\" en diferentes partes\n",
    "    partes = row['TRANSPORTE'].split()\n",
    "    # Inicializa una variable para almacenar el medio de transporte actual\n",
    "    transporte_actual = ''\n",
    "    # Inicializa una variable para almacenar la información del medio de transporte actual\n",
    "    info_transporte = ''\n",
    "    # Itera sobre cada parte de la cadena\n",
    "    for parte in partes:\n",
    "        # Si la parte es un medio de transporte\n",
    "        if parte.rstrip(':') in transportes:\n",
    "            # Si ya hay información almacenada en la variable info_transporte\n",
    "            if info_transporte:\n",
    "                # Asigna la información a la columna correspondiente\n",
    "                df.at[i, transporte_actual] = info_transporte.strip()\n",
    "                # Reinicia la variable info_transporte\n",
    "                info_transporte = ''\n",
    "            # Actualiza el valor de la variable transporte_actual\n",
    "            transporte_actual = parte.rstrip(':')\n",
    "        else:\n",
    "            # Agrega la parte a la variable info_transporte\n",
    "            info_transporte += parte + ' '\n",
    "    # Asigna la información restante a la columna correspondiente\n",
    "    df.at[i, transporte_actual] = info_transporte.strip()\n",
    "\n",
    "# Muestra el resul"
   ]
  },
  {
   "cell_type": "code",
   "execution_count": 76,
   "metadata": {},
   "outputs": [],
   "source": [
    "df = df.drop(columns='TRANSPORTE')"
   ]
  },
  {
   "cell_type": "code",
   "execution_count": 77,
   "metadata": {},
   "outputs": [
    {
     "name": "stdout",
     "output_type": "stream",
     "text": [
      "<class 'pandas.core.frame.DataFrame'>\n",
      "Index: 26 entries, 0 to 34\n",
      "Data columns (total 25 columns):\n",
      " #   Column               Non-Null Count  Dtype  \n",
      "---  ------               --------------  -----  \n",
      " 0   NOMBRE-VIA           26 non-null     object \n",
      " 1   CLASE-VIAL           26 non-null     object \n",
      " 2   TIPO-NUM             26 non-null     object \n",
      " 3   NUM                  26 non-null     int64  \n",
      " 4   PLANTA               8 non-null      object \n",
      " 5   PUERTA               5 non-null      object \n",
      " 6   ESCALERAS            0 non-null      float64\n",
      " 7   ORIENTACION          6 non-null      object \n",
      " 8   LOCALIDAD            26 non-null     object \n",
      " 9   PROVINCIA            26 non-null     object \n",
      " 10  CODIGO-POSTAL        26 non-null     int64  \n",
      " 11  NOMBRE               26 non-null     object \n",
      " 12  DESCRIPCION-ENTIDAD  7 non-null      object \n",
      " 13  LATITUD              26 non-null     float64\n",
      " 14  LONGITUD             26 non-null     float64\n",
      " 15  COORDENADA-Y         26 non-null     int64  \n",
      " 16  COORDENADA-X         26 non-null     int64  \n",
      " 17  TELEFONO             25 non-null     object \n",
      " 18  EMAIL                25 non-null     object \n",
      " 19  Metro                26 non-null     object \n",
      " 20  Bus                  26 non-null     object \n",
      " 21  Renfe                26 non-null     object \n",
      " 22  Bicimad              26 non-null     object \n",
      " 23  Parking              26 non-null     object \n",
      " 24  Aparcamiento         26 non-null     object \n",
      "dtypes: float64(3), int64(4), object(18)\n",
      "memory usage: 6.3+ KB\n"
     ]
    }
   ],
   "source": [
    "df.info()"
   ]
  },
  {
   "cell_type": "code",
   "execution_count": 78,
   "metadata": {},
   "outputs": [
    {
     "data": {
      "text/plain": [
       "0"
      ]
     },
     "execution_count": 78,
     "metadata": {},
     "output_type": "execute_result"
    }
   ],
   "source": [
    "df['COORDENADA-X'].isna().sum()"
   ]
  },
  {
   "cell_type": "code",
   "execution_count": 79,
   "metadata": {},
   "outputs": [
    {
     "data": {
      "text/plain": [
       "0"
      ]
     },
     "execution_count": 79,
     "metadata": {},
     "output_type": "execute_result"
    }
   ],
   "source": [
    "df['COORDENADA-Y'].isna().sum()\n"
   ]
  },
  {
   "cell_type": "code",
   "execution_count": 80,
   "metadata": {},
   "outputs": [
    {
     "data": {
      "text/html": [
       "<div>\n",
       "<style scoped>\n",
       "    .dataframe tbody tr th:only-of-type {\n",
       "        vertical-align: middle;\n",
       "    }\n",
       "\n",
       "    .dataframe tbody tr th {\n",
       "        vertical-align: top;\n",
       "    }\n",
       "\n",
       "    .dataframe thead th {\n",
       "        text-align: right;\n",
       "    }\n",
       "</style>\n",
       "<table border=\"1\" class=\"dataframe\">\n",
       "  <thead>\n",
       "    <tr style=\"text-align: right;\">\n",
       "      <th></th>\n",
       "      <th>NOMBRE-VIA</th>\n",
       "      <th>CLASE-VIAL</th>\n",
       "      <th>TIPO-NUM</th>\n",
       "      <th>NUM</th>\n",
       "      <th>PLANTA</th>\n",
       "      <th>PUERTA</th>\n",
       "      <th>ESCALERAS</th>\n",
       "      <th>ORIENTACION</th>\n",
       "      <th>LOCALIDAD</th>\n",
       "      <th>PROVINCIA</th>\n",
       "      <th>CODIGO-POSTAL</th>\n",
       "      <th>NOMBRE</th>\n",
       "      <th>DESCRIPCION-ENTIDAD</th>\n",
       "      <th>LATITUD</th>\n",
       "      <th>LONGITUD</th>\n",
       "      <th>COORDENADA-Y</th>\n",
       "      <th>COORDENADA-X</th>\n",
       "      <th>TELEFONO</th>\n",
       "      <th>EMAIL</th>\n",
       "      <th>Metro</th>\n",
       "      <th>Bus</th>\n",
       "      <th>Renfe</th>\n",
       "      <th>Bicimad</th>\n",
       "      <th>Parking</th>\n",
       "      <th>Aparcamiento</th>\n",
       "    </tr>\n",
       "  </thead>\n",
       "  <tbody>\n",
       "    <tr>\n",
       "      <th>0</th>\n",
       "      <td>MAYOR</td>\n",
       "      <td>PLAZA</td>\n",
       "      <td>V</td>\n",
       "      <td>27</td>\n",
       "      <td>NaN</td>\n",
       "      <td>NaN</td>\n",
       "      <td>NaN</td>\n",
       "      <td>Casa de la Panadería</td>\n",
       "      <td>MADRID</td>\n",
       "      <td>MADRID</td>\n",
       "      <td>28012</td>\n",
       "      <td>Centro de Turismo Plaza Mayor</td>\n",
       "      <td>Madrid cuenta en el Salón de Columnas de la Casa de la Panadería de la céntrica Plaza Mayor con uno de los más modernos centros turísticos del país que ofrece atención especializada con una plantilla de profesionales expertos en turismo e idiomas que atiende personalmente a los visitantes y da respuesta también a todas las peticiones de información que se realizan de manera no presencial. Centro de turismo cofinanciado por el Fondo Europeo de Desarrollo Regional.</td>\n",
       "      <td>40.415839</td>\n",
       "      <td>-3.707426</td>\n",
       "      <td>4474154</td>\n",
       "      <td>439983</td>\n",
       "      <td>915 787 810</td>\n",
       "      <td>turismo@esmadrid.com</td>\n",
       "      <td>Sol (líneas 1, 2, 3), Ópera (línea 2, 5, Ramal)</td>\n",
       "      <td>17, 18, 23, 31, 50, 65</td>\n",
       "      <td>Sol (líneas C3, C4)</td>\n",
       "      <td>Estaciones 31 (calle Mayor, 20), 32 (plaza Provincia , 1 )</td>\n",
       "      <td>Plaza Mayor (55), Plaza Mayor</td>\n",
       "      <td></td>\n",
       "    </tr>\n",
       "  </tbody>\n",
       "</table>\n",
       "</div>"
      ],
      "text/plain": [
       "  NOMBRE-VIA CLASE-VIAL TIPO-NUM  NUM PLANTA PUERTA  ESCALERAS  \\\n",
       "0      MAYOR      PLAZA        V   27    NaN    NaN        NaN   \n",
       "\n",
       "            ORIENTACION LOCALIDAD PROVINCIA  CODIGO-POSTAL  \\\n",
       "0  Casa de la Panadería    MADRID    MADRID          28012   \n",
       "\n",
       "                          NOMBRE  \\\n",
       "0  Centro de Turismo Plaza Mayor   \n",
       "\n",
       "                                                                                                                                                                                                                                                                                                                                                                                                                                                                   DESCRIPCION-ENTIDAD  \\\n",
       "0  Madrid cuenta en el Salón de Columnas de la Casa de la Panadería de la céntrica Plaza Mayor con uno de los más modernos centros turísticos del país que ofrece atención especializada con una plantilla de profesionales expertos en turismo e idiomas que atiende personalmente a los visitantes y da respuesta también a todas las peticiones de información que se realizan de manera no presencial. Centro de turismo cofinanciado por el Fondo Europeo de Desarrollo Regional.   \n",
       "\n",
       "     LATITUD  LONGITUD  COORDENADA-Y  COORDENADA-X     TELEFONO  \\\n",
       "0  40.415839 -3.707426       4474154        439983  915 787 810   \n",
       "\n",
       "                  EMAIL                                            Metro  \\\n",
       "0  turismo@esmadrid.com  Sol (líneas 1, 2, 3), Ópera (línea 2, 5, Ramal)   \n",
       "\n",
       "                      Bus                Renfe  \\\n",
       "0  17, 18, 23, 31, 50, 65  Sol (líneas C3, C4)   \n",
       "\n",
       "                                                      Bicimad  \\\n",
       "0  Estaciones 31 (calle Mayor, 20), 32 (plaza Provincia , 1 )   \n",
       "\n",
       "                         Parking Aparcamiento  \n",
       "0  Plaza Mayor (55), Plaza Mayor               "
      ]
     },
     "execution_count": 80,
     "metadata": {},
     "output_type": "execute_result"
    }
   ],
   "source": [
    "df.head(1)"
   ]
  },
  {
   "cell_type": "code",
   "execution_count": 81,
   "metadata": {},
   "outputs": [
    {
     "data": {
      "text/plain": [
       "(26, 25)"
      ]
     },
     "execution_count": 81,
     "metadata": {},
     "output_type": "execute_result"
    }
   ],
   "source": [
    "df.shape"
   ]
  },
  {
   "cell_type": "code",
   "execution_count": 56,
   "metadata": {},
   "outputs": [],
   "source": [
    "# df.to_json('Tourist_office.json', orient='records', force_ascii=False)"
   ]
  },
  {
   "cell_type": "code",
   "execution_count": null,
   "metadata": {},
   "outputs": [],
   "source": [
    "# import xml.etree.ElementTree as ET\n",
    "\n",
    "# # Reemplaza 'archivo.xml' con la ruta al archivo XML que deseas leer\n",
    "# tree = ET.parse('sheet1.xml')\n",
    "# root = tree.getroot()\n",
    "\n",
    "# # Procesar el contenido del archivo XML aquí\n",
    "# # Por ejemplo, imprimir el nombre de la etiqueta raíz y sus atributos\n",
    "# print(f'Etiqueta raíz: {root.tag}')\n",
    "# print(f'Atributos: {root.attrib}')\n"
   ]
  },
  {
   "cell_type": "markdown",
   "metadata": {},
   "source": [
    "### Nuevo enfoque, quieren todo en un .json, unificaremos columnas y los propios json en cada cosa. Solo 4 columnas tipo,nombre,direccion,coordenada-x,coordenada-y latitud,longitud y descripcion"
   ]
  },
  {
   "cell_type": "code",
   "execution_count": 82,
   "metadata": {},
   "outputs": [],
   "source": [
    "df[\"CODIGO-POSTAL\"] = df[\"CODIGO-POSTAL\"].fillna(\"No disponible\")\n",
    "df[\"NUM\"] = df[\"NUM\"].fillna(\"No disponible\")\n",
    "df['NUM'] = pd.to_numeric(df['NUM'], errors='coerce')\n",
    "df['NUM'] = df['NUM'].astype(pd.Int64Dtype(), errors='ignore')\n",
    "df['CODIGO-POSTAL'] = pd.to_numeric(df['CODIGO-POSTAL'], errors='coerce')\n",
    "df['CODIGO-POSTAL'] = df['CODIGO-POSTAL'].astype(pd.Int64Dtype(), errors='ignore')"
   ]
  },
  {
   "cell_type": "code",
   "execution_count": 83,
   "metadata": {},
   "outputs": [],
   "source": [
    "def concatenar_fila(row):\n",
    "    return f\"{row['CLASE-VIAL']} {row['NOMBRE-VIA']} {row['NUM']}, {row['LOCALIDAD']}, {row['CODIGO-POSTAL']}\"\n",
    "\n",
    "# Crear la nueva columna \"DIRECCION\" aplicando la función a lo largo de las filas\n",
    "df['DIRECCION'] = df.apply(concatenar_fila, axis=1)"
   ]
  },
  {
   "cell_type": "code",
   "execution_count": 84,
   "metadata": {},
   "outputs": [
    {
     "data": {
      "text/plain": [
       "Index(['NOMBRE-VIA', 'CLASE-VIAL', 'TIPO-NUM', 'NUM', 'PLANTA', 'PUERTA',\n",
       "       'ESCALERAS', 'ORIENTACION', 'LOCALIDAD', 'PROVINCIA', 'CODIGO-POSTAL',\n",
       "       'NOMBRE', 'DESCRIPCION-ENTIDAD', 'LATITUD', 'LONGITUD', 'COORDENADA-Y',\n",
       "       'COORDENADA-X', 'TELEFONO', 'EMAIL', 'Metro', 'Bus', 'Renfe', 'Bicimad',\n",
       "       'Parking', 'Aparcamiento', 'DIRECCION'],\n",
       "      dtype='object')"
      ]
     },
     "execution_count": 84,
     "metadata": {},
     "output_type": "execute_result"
    }
   ],
   "source": [
    "df.columns"
   ]
  },
  {
   "cell_type": "code",
   "execution_count": 85,
   "metadata": {},
   "outputs": [],
   "source": [
    "df.drop(['NOMBRE-VIA', 'CLASE-VIAL', 'TIPO-NUM', 'NUM', 'PLANTA', 'PUERTA',\n",
    "       'ESCALERAS', 'ORIENTACION', 'LOCALIDAD', 'PROVINCIA', 'CODIGO-POSTAL','COORDENADA-Y',\n",
    "       'COORDENADA-X', 'TELEFONO', 'EMAIL'],axis = 1,inplace=True)"
   ]
  },
  {
   "cell_type": "code",
   "execution_count": 86,
   "metadata": {},
   "outputs": [
    {
     "data": {
      "text/plain": [
       "Index(['NOMBRE', 'DESCRIPCION-ENTIDAD', 'LATITUD', 'LONGITUD', 'Metro', 'Bus',\n",
       "       'Renfe', 'Bicimad', 'Parking', 'Aparcamiento', 'DIRECCION'],\n",
       "      dtype='object')"
      ]
     },
     "execution_count": 86,
     "metadata": {},
     "output_type": "execute_result"
    }
   ],
   "source": [
    "df.columns"
   ]
  },
  {
   "cell_type": "code",
   "execution_count": 87,
   "metadata": {},
   "outputs": [],
   "source": [
    "df[\"TIPO\"] = \"OFICINAS_TURISMO\""
   ]
  },
  {
   "cell_type": "code",
   "execution_count": 88,
   "metadata": {},
   "outputs": [],
   "source": [
    "df.rename(columns={'DESCRIPCION-ENTIDAD': 'DESCRIPCION'}, inplace=True)"
   ]
  },
  {
   "cell_type": "code",
   "execution_count": 89,
   "metadata": {},
   "outputs": [],
   "source": [
    "nuevo_orden_columnas = [\"TIPO\",\"NOMBRE\",\"DIRECCION\",\"DESCRIPCION\",\"LATITUD\",\"LONGITUD\"] \n",
    "df = df.reindex(columns=nuevo_orden_columnas)"
   ]
  },
  {
   "cell_type": "code",
   "execution_count": 90,
   "metadata": {},
   "outputs": [],
   "source": [
    "df[\"DESCRIPCION\"] = df[\"DESCRIPCION\"].fillna(\"No disponible\")"
   ]
  },
  {
   "cell_type": "code",
   "execution_count": 91,
   "metadata": {},
   "outputs": [
    {
     "data": {
      "text/html": [
       "<div>\n",
       "<style scoped>\n",
       "    .dataframe tbody tr th:only-of-type {\n",
       "        vertical-align: middle;\n",
       "    }\n",
       "\n",
       "    .dataframe tbody tr th {\n",
       "        vertical-align: top;\n",
       "    }\n",
       "\n",
       "    .dataframe thead th {\n",
       "        text-align: right;\n",
       "    }\n",
       "</style>\n",
       "<table border=\"1\" class=\"dataframe\">\n",
       "  <thead>\n",
       "    <tr style=\"text-align: right;\">\n",
       "      <th></th>\n",
       "      <th>TIPO</th>\n",
       "      <th>NOMBRE</th>\n",
       "      <th>DIRECCION</th>\n",
       "      <th>DESCRIPCION</th>\n",
       "      <th>LATITUD</th>\n",
       "      <th>LONGITUD</th>\n",
       "    </tr>\n",
       "  </thead>\n",
       "  <tbody>\n",
       "    <tr>\n",
       "      <th>0</th>\n",
       "      <td>OFICINAS_TURISMO</td>\n",
       "      <td>Centro de Turismo Plaza Mayor</td>\n",
       "      <td>PLAZA MAYOR 27, MADRID, 28012</td>\n",
       "      <td>Madrid cuenta en el Salón de Columnas de la Casa de la Panadería de la céntrica Plaza Mayor con uno de los más modernos centros turísticos del país que ofrece atención especializada con una plantilla de profesionales expertos en turismo e idiomas que atiende personalmente a los visitantes y da respuesta también a todas las peticiones de información que se realizan de manera no presencial. Centro de turismo cofinanciado por el Fondo Europeo de Desarrollo Regional.</td>\n",
       "      <td>40.415839</td>\n",
       "      <td>-3.707426</td>\n",
       "    </tr>\n",
       "    <tr>\n",
       "      <th>1</th>\n",
       "      <td>OFICINAS_TURISMO</td>\n",
       "      <td>Centro de Turismo de Sol. Comunidad de Madrid</td>\n",
       "      <td>PLAZA PUERTA DEL SOL 5, MADRID, 28013</td>\n",
       "      <td>No disponible</td>\n",
       "      <td>40.416618</td>\n",
       "      <td>-3.702830</td>\n",
       "    </tr>\n",
       "    <tr>\n",
       "      <th>2</th>\n",
       "      <td>OFICINAS_TURISMO</td>\n",
       "      <td>Madrid Film Office</td>\n",
       "      <td>PLAZA MAYOR 27, MADRID, 28012</td>\n",
       "      <td>Madrid Film Office es un servicio público del Ayuntamiento de Madrid que tiene como misión promocionar la ciudad como escenario de rodaje de producciones audiovisuales, asistir a las empresas y a los profesionales que eligen la ciudad de Madrid para llevar a cabo sus proyectos, apoyar al sector audiovisual madrileño y estimular la inversión y el desarrollo local. Madrid Film Office colabora desde la fase de preproducción para facilitar la búsqueda de localizaciones, te asesora en materia de permisos y te acompaña durante el desarrollo de los proyectos audiovisuales en la ciudad de Madrid. La oficina está abierta a consultas y solicitudes de asistencia por vía telefónica o email. Si deseas una atención presencial, solicita cita previa a través del correo electrónico info@madridfilmoffice.com.</td>\n",
       "      <td>40.415794</td>\n",
       "      <td>-3.707411</td>\n",
       "    </tr>\n",
       "    <tr>\n",
       "      <th>3</th>\n",
       "      <td>OFICINAS_TURISMO</td>\n",
       "      <td>Oficina Joven Comunidad de Madrid. TIVE. Moncloa</td>\n",
       "      <td>CALLE FERNANDO EL CATOLICO 88, MADRID, 28015</td>\n",
       "      <td>No disponible</td>\n",
       "      <td>40.434423</td>\n",
       "      <td>-3.717795</td>\n",
       "    </tr>\n",
       "    <tr>\n",
       "      <th>4</th>\n",
       "      <td>OFICINAS_TURISMO</td>\n",
       "      <td>Oficina de Turismo de Andalucía en Madrid</td>\n",
       "      <td>AVENIDA FELIPE II 15, MADRID, 28009</td>\n",
       "      <td>No disponible</td>\n",
       "      <td>40.424184</td>\n",
       "      <td>-3.673810</td>\n",
       "    </tr>\n",
       "  </tbody>\n",
       "</table>\n",
       "</div>"
      ],
      "text/plain": [
       "               TIPO                                            NOMBRE  \\\n",
       "0  OFICINAS_TURISMO                     Centro de Turismo Plaza Mayor   \n",
       "1  OFICINAS_TURISMO     Centro de Turismo de Sol. Comunidad de Madrid   \n",
       "2  OFICINAS_TURISMO                                Madrid Film Office   \n",
       "3  OFICINAS_TURISMO  Oficina Joven Comunidad de Madrid. TIVE. Moncloa   \n",
       "4  OFICINAS_TURISMO         Oficina de Turismo de Andalucía en Madrid   \n",
       "\n",
       "                                      DIRECCION  \\\n",
       "0                 PLAZA MAYOR 27, MADRID, 28012   \n",
       "1         PLAZA PUERTA DEL SOL 5, MADRID, 28013   \n",
       "2                 PLAZA MAYOR 27, MADRID, 28012   \n",
       "3  CALLE FERNANDO EL CATOLICO 88, MADRID, 28015   \n",
       "4           AVENIDA FELIPE II 15, MADRID, 28009   \n",
       "\n",
       "                                                                                                                                                                                                                                                                                                                                                                                                                                                                                                                                                                                                                                                                                                                                                                                                                          DESCRIPCION  \\\n",
       "0                                                                                                                                                                                                                                                                                                                                                 Madrid cuenta en el Salón de Columnas de la Casa de la Panadería de la céntrica Plaza Mayor con uno de los más modernos centros turísticos del país que ofrece atención especializada con una plantilla de profesionales expertos en turismo e idiomas que atiende personalmente a los visitantes y da respuesta también a todas las peticiones de información que se realizan de manera no presencial. Centro de turismo cofinanciado por el Fondo Europeo de Desarrollo Regional.   \n",
       "1                                                                                                                                                                                                                                                                                                                                                                                                                                                                                                                                                                                                                                                                                                                                                                                                                       No disponible   \n",
       "2  Madrid Film Office es un servicio público del Ayuntamiento de Madrid que tiene como misión promocionar la ciudad como escenario de rodaje de producciones audiovisuales, asistir a las empresas y a los profesionales que eligen la ciudad de Madrid para llevar a cabo sus proyectos, apoyar al sector audiovisual madrileño y estimular la inversión y el desarrollo local. Madrid Film Office colabora desde la fase de preproducción para facilitar la búsqueda de localizaciones, te asesora en materia de permisos y te acompaña durante el desarrollo de los proyectos audiovisuales en la ciudad de Madrid. La oficina está abierta a consultas y solicitudes de asistencia por vía telefónica o email. Si deseas una atención presencial, solicita cita previa a través del correo electrónico info@madridfilmoffice.com.   \n",
       "3                                                                                                                                                                                                                                                                                                                                                                                                                                                                                                                                                                                                                                                                                                                                                                                                                       No disponible   \n",
       "4                                                                                                                                                                                                                                                                                                                                                                                                                                                                                                                                                                                                                                                                                                                                                                                                                       No disponible   \n",
       "\n",
       "     LATITUD  LONGITUD  \n",
       "0  40.415839 -3.707426  \n",
       "1  40.416618 -3.702830  \n",
       "2  40.415794 -3.707411  \n",
       "3  40.434423 -3.717795  \n",
       "4  40.424184 -3.673810  "
      ]
     },
     "execution_count": 91,
     "metadata": {},
     "output_type": "execute_result"
    }
   ],
   "source": [
    "df.head()"
   ]
  },
  {
   "cell_type": "code",
   "execution_count": 92,
   "metadata": {},
   "outputs": [],
   "source": [
    "df.to_csv(\"../data/madrid/oficinas_turismo/tourist_office_nuevo_reduced.csv\", index=False)"
   ]
  }
 ],
 "metadata": {
  "kernelspec": {
   "display_name": "Python 3",
   "language": "python",
   "name": "python3"
  },
  "language_info": {
   "codemirror_mode": {
    "name": "ipython",
    "version": 3
   },
   "file_extension": ".py",
   "mimetype": "text/x-python",
   "name": "python",
   "nbconvert_exporter": "python",
   "pygments_lexer": "ipython3",
   "version": "3.11.4"
  },
  "orig_nbformat": 4
 },
 "nbformat": 4,
 "nbformat_minor": 2
}
