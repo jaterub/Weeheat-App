{
 "cells": [
  {
   "cell_type": "code",
   "execution_count": 2,
   "metadata": {},
   "outputs": [],
   "source": [
    "import pandas as pd"
   ]
  },
  {
   "cell_type": "code",
   "execution_count": 3,
   "metadata": {},
   "outputs": [],
   "source": [
    "df_verdes = pd.read_csv(\"../data/madrid/zonas_verdes/Zonas Verdes.csv\",sep=\";\")"
   ]
  },
  {
   "cell_type": "markdown",
   "metadata": {},
   "source": [
    "Quitamos todo el espacio sobrante de cada string"
   ]
  },
  {
   "cell_type": "code",
   "execution_count": 6,
   "metadata": {},
   "outputs": [],
   "source": [
    "df_verdes = df_verdes.apply(lambda x: x.str.strip() if x.dtype == \"object\" else x)"
   ]
  },
  {
   "cell_type": "code",
   "execution_count": 7,
   "metadata": {},
   "outputs": [
    {
     "data": {
      "text/html": [
       "<div>\n",
       "<style scoped>\n",
       "    .dataframe tbody tr th:only-of-type {\n",
       "        vertical-align: middle;\n",
       "    }\n",
       "\n",
       "    .dataframe tbody tr th {\n",
       "        vertical-align: top;\n",
       "    }\n",
       "\n",
       "    .dataframe thead th {\n",
       "        text-align: right;\n",
       "    }\n",
       "</style>\n",
       "<table border=\"1\" class=\"dataframe\">\n",
       "  <thead>\n",
       "    <tr style=\"text-align: right;\">\n",
       "      <th></th>\n",
       "      <th>Distrito</th>\n",
       "      <th>Subepígrafe</th>\n",
       "      <th>Apartado</th>\n",
       "      <th>Número de archivo</th>\n",
       "      <th>Naturaleza del inmueble</th>\n",
       "      <th>Situación Destino</th>\n",
       "      <th>Destino</th>\n",
       "      <th>Solar</th>\n",
       "    </tr>\n",
       "  </thead>\n",
       "  <tbody>\n",
       "    <tr>\n",
       "      <th>0</th>\n",
       "      <td>CENTRO</td>\n",
       "      <td>ZONAS VERDES</td>\n",
       "      <td>PARQUES Y JARDINES</td>\n",
       "      <td>300.000</td>\n",
       "      <td>URBANA</td>\n",
       "      <td>CALLE DE BAILEN NUM 15</td>\n",
       "      <td>DOTACIONAL SERVICIOS COLECTIVOS ZONAS VERDES B...</td>\n",
       "      <td>5025.42 m2</td>\n",
       "    </tr>\n",
       "    <tr>\n",
       "      <th>1</th>\n",
       "      <td>CENTRO</td>\n",
       "      <td>ZONAS VERDES</td>\n",
       "      <td>PARQUES Y JARDINES</td>\n",
       "      <td>300.001</td>\n",
       "      <td>URBANA</td>\n",
       "      <td>CALLE DE BAILEN NUM 6</td>\n",
       "      <td>DOTACIONAL SERVICIOS COLECTIVOS ZONAS VERDES S...</td>\n",
       "      <td>26814.00 m2</td>\n",
       "    </tr>\n",
       "    <tr>\n",
       "      <th>2</th>\n",
       "      <td>CENTRO</td>\n",
       "      <td>ZONAS VERDES</td>\n",
       "      <td>PARQUES Y JARDINES</td>\n",
       "      <td>300.002</td>\n",
       "      <td>URBANA</td>\n",
       "      <td>CALLE DEL MESON DE PAREDES, NUM. 37 C/V C/ DE ...</td>\n",
       "      <td>DOTACIONAL SERVICIOS COLECTIVOS ZONAS VERDES B...</td>\n",
       "      <td>2979.20 m2</td>\n",
       "    </tr>\n",
       "    <tr>\n",
       "      <th>3</th>\n",
       "      <td>CENTRO</td>\n",
       "      <td>ZONAS VERDES</td>\n",
       "      <td>PARQUES Y JARDINES</td>\n",
       "      <td>300.003</td>\n",
       "      <td>URBANA</td>\n",
       "      <td>CALLE MESON DE PAREDES NUM 68</td>\n",
       "      <td>DOTACIONAL SERVICIOS COLECTIVOS ZONAS VERDES B...</td>\n",
       "      <td>1637.34 m2</td>\n",
       "    </tr>\n",
       "    <tr>\n",
       "      <th>4</th>\n",
       "      <td>CENTRO</td>\n",
       "      <td>ZONAS VERDES</td>\n",
       "      <td>PARQUES Y JARDINES</td>\n",
       "      <td>300.004</td>\n",
       "      <td>URBANA</td>\n",
       "      <td>CALLE DE SEGOVIA NUM 12</td>\n",
       "      <td>DOTACIONAL SERVCIOS COLECTIVOS ZONAS VERDES BÁ...</td>\n",
       "      <td>172.90 m2</td>\n",
       "    </tr>\n",
       "  </tbody>\n",
       "</table>\n",
       "</div>"
      ],
      "text/plain": [
       "  Distrito   Subepígrafe            Apartado  Número de archivo  \\\n",
       "0   CENTRO  ZONAS VERDES  PARQUES Y JARDINES            300.000   \n",
       "1   CENTRO  ZONAS VERDES  PARQUES Y JARDINES            300.001   \n",
       "2   CENTRO  ZONAS VERDES  PARQUES Y JARDINES            300.002   \n",
       "3   CENTRO  ZONAS VERDES  PARQUES Y JARDINES            300.003   \n",
       "4   CENTRO  ZONAS VERDES  PARQUES Y JARDINES            300.004   \n",
       "\n",
       "  Naturaleza del inmueble                                  Situación Destino  \\\n",
       "0                  URBANA                             CALLE DE BAILEN NUM 15   \n",
       "1                  URBANA                              CALLE DE BAILEN NUM 6   \n",
       "2                  URBANA  CALLE DEL MESON DE PAREDES, NUM. 37 C/V C/ DE ...   \n",
       "3                  URBANA                      CALLE MESON DE PAREDES NUM 68   \n",
       "4                  URBANA                            CALLE DE SEGOVIA NUM 12   \n",
       "\n",
       "                                             Destino        Solar  \n",
       "0  DOTACIONAL SERVICIOS COLECTIVOS ZONAS VERDES B...   5025.42 m2  \n",
       "1  DOTACIONAL SERVICIOS COLECTIVOS ZONAS VERDES S...  26814.00 m2  \n",
       "2  DOTACIONAL SERVICIOS COLECTIVOS ZONAS VERDES B...   2979.20 m2  \n",
       "3  DOTACIONAL SERVICIOS COLECTIVOS ZONAS VERDES B...   1637.34 m2  \n",
       "4  DOTACIONAL SERVCIOS COLECTIVOS ZONAS VERDES BÁ...    172.90 m2  "
      ]
     },
     "execution_count": 7,
     "metadata": {},
     "output_type": "execute_result"
    }
   ],
   "source": [
    "df_verdes.head()"
   ]
  },
  {
   "cell_type": "code",
   "execution_count": 9,
   "metadata": {},
   "outputs": [
    {
     "name": "stdout",
     "output_type": "stream",
     "text": [
      "<class 'pandas.core.frame.DataFrame'>\n",
      "RangeIndex: 1489 entries, 0 to 1488\n",
      "Data columns (total 8 columns):\n",
      " #   Column                   Non-Null Count  Dtype  \n",
      "---  ------                   --------------  -----  \n",
      " 0   Distrito                 1489 non-null   object \n",
      " 1   Subepígrafe              1489 non-null   object \n",
      " 2   Apartado                 1489 non-null   object \n",
      " 3   Número de archivo        1489 non-null   float64\n",
      " 4   Naturaleza del inmueble  1489 non-null   object \n",
      " 5   Situación Destino        1489 non-null   object \n",
      " 6   Destino                  1489 non-null   object \n",
      " 7   Solar                    1489 non-null   object \n",
      "dtypes: float64(1), object(7)\n",
      "memory usage: 93.2+ KB\n"
     ]
    }
   ],
   "source": [
    "df_verdes.info()"
   ]
  },
  {
   "cell_type": "code",
   "execution_count": 11,
   "metadata": {},
   "outputs": [
    {
     "ename": "KeyError",
     "evalue": "\"['Subepígrafe'] not found in axis\"",
     "output_type": "error",
     "traceback": [
      "\u001b[1;31m---------------------------------------------------------------------------\u001b[0m",
      "\u001b[1;31mKeyError\u001b[0m                                  Traceback (most recent call last)",
      "Cell \u001b[1;32mIn[11], line 1\u001b[0m\n\u001b[1;32m----> 1\u001b[0m df_verdes\u001b[39m.\u001b[39;49mdrop(\u001b[39m\"\u001b[39;49m\u001b[39mSubepígrafe\u001b[39;49m\u001b[39m\"\u001b[39;49m,axis\u001b[39m=\u001b[39;49m\u001b[39m1\u001b[39;49m,inplace\u001b[39m=\u001b[39;49m\u001b[39mTrue\u001b[39;49;00m)\n",
      "File \u001b[1;32mc:\\Users\\usuario\\AppData\\Local\\Programs\\Python\\Python311\\Lib\\site-packages\\pandas\\core\\frame.py:5258\u001b[0m, in \u001b[0;36mDataFrame.drop\u001b[1;34m(self, labels, axis, index, columns, level, inplace, errors)\u001b[0m\n\u001b[0;32m   5110\u001b[0m \u001b[39mdef\u001b[39;00m \u001b[39mdrop\u001b[39m(\n\u001b[0;32m   5111\u001b[0m     \u001b[39mself\u001b[39m,\n\u001b[0;32m   5112\u001b[0m     labels: IndexLabel \u001b[39m=\u001b[39m \u001b[39mNone\u001b[39;00m,\n\u001b[1;32m   (...)\u001b[0m\n\u001b[0;32m   5119\u001b[0m     errors: IgnoreRaise \u001b[39m=\u001b[39m \u001b[39m\"\u001b[39m\u001b[39mraise\u001b[39m\u001b[39m\"\u001b[39m,\n\u001b[0;32m   5120\u001b[0m ) \u001b[39m-\u001b[39m\u001b[39m>\u001b[39m DataFrame \u001b[39m|\u001b[39m \u001b[39mNone\u001b[39;00m:\n\u001b[0;32m   5121\u001b[0m \u001b[39m    \u001b[39m\u001b[39m\"\"\"\u001b[39;00m\n\u001b[0;32m   5122\u001b[0m \u001b[39m    Drop specified labels from rows or columns.\u001b[39;00m\n\u001b[0;32m   5123\u001b[0m \n\u001b[1;32m   (...)\u001b[0m\n\u001b[0;32m   5256\u001b[0m \u001b[39m            weight  1.0     0.8\u001b[39;00m\n\u001b[0;32m   5257\u001b[0m \u001b[39m    \"\"\"\u001b[39;00m\n\u001b[1;32m-> 5258\u001b[0m     \u001b[39mreturn\u001b[39;00m \u001b[39msuper\u001b[39;49m()\u001b[39m.\u001b[39;49mdrop(\n\u001b[0;32m   5259\u001b[0m         labels\u001b[39m=\u001b[39;49mlabels,\n\u001b[0;32m   5260\u001b[0m         axis\u001b[39m=\u001b[39;49maxis,\n\u001b[0;32m   5261\u001b[0m         index\u001b[39m=\u001b[39;49mindex,\n\u001b[0;32m   5262\u001b[0m         columns\u001b[39m=\u001b[39;49mcolumns,\n\u001b[0;32m   5263\u001b[0m         level\u001b[39m=\u001b[39;49mlevel,\n\u001b[0;32m   5264\u001b[0m         inplace\u001b[39m=\u001b[39;49minplace,\n\u001b[0;32m   5265\u001b[0m         errors\u001b[39m=\u001b[39;49merrors,\n\u001b[0;32m   5266\u001b[0m     )\n",
      "File \u001b[1;32mc:\\Users\\usuario\\AppData\\Local\\Programs\\Python\\Python311\\Lib\\site-packages\\pandas\\core\\generic.py:4549\u001b[0m, in \u001b[0;36mNDFrame.drop\u001b[1;34m(self, labels, axis, index, columns, level, inplace, errors)\u001b[0m\n\u001b[0;32m   4547\u001b[0m \u001b[39mfor\u001b[39;00m axis, labels \u001b[39min\u001b[39;00m axes\u001b[39m.\u001b[39mitems():\n\u001b[0;32m   4548\u001b[0m     \u001b[39mif\u001b[39;00m labels \u001b[39mis\u001b[39;00m \u001b[39mnot\u001b[39;00m \u001b[39mNone\u001b[39;00m:\n\u001b[1;32m-> 4549\u001b[0m         obj \u001b[39m=\u001b[39m obj\u001b[39m.\u001b[39;49m_drop_axis(labels, axis, level\u001b[39m=\u001b[39;49mlevel, errors\u001b[39m=\u001b[39;49merrors)\n\u001b[0;32m   4551\u001b[0m \u001b[39mif\u001b[39;00m inplace:\n\u001b[0;32m   4552\u001b[0m     \u001b[39mself\u001b[39m\u001b[39m.\u001b[39m_update_inplace(obj)\n",
      "File \u001b[1;32mc:\\Users\\usuario\\AppData\\Local\\Programs\\Python\\Python311\\Lib\\site-packages\\pandas\\core\\generic.py:4591\u001b[0m, in \u001b[0;36mNDFrame._drop_axis\u001b[1;34m(self, labels, axis, level, errors, only_slice)\u001b[0m\n\u001b[0;32m   4589\u001b[0m         new_axis \u001b[39m=\u001b[39m axis\u001b[39m.\u001b[39mdrop(labels, level\u001b[39m=\u001b[39mlevel, errors\u001b[39m=\u001b[39merrors)\n\u001b[0;32m   4590\u001b[0m     \u001b[39melse\u001b[39;00m:\n\u001b[1;32m-> 4591\u001b[0m         new_axis \u001b[39m=\u001b[39m axis\u001b[39m.\u001b[39;49mdrop(labels, errors\u001b[39m=\u001b[39;49merrors)\n\u001b[0;32m   4592\u001b[0m     indexer \u001b[39m=\u001b[39m axis\u001b[39m.\u001b[39mget_indexer(new_axis)\n\u001b[0;32m   4594\u001b[0m \u001b[39m# Case for non-unique axis\u001b[39;00m\n\u001b[0;32m   4595\u001b[0m \u001b[39melse\u001b[39;00m:\n",
      "File \u001b[1;32mc:\\Users\\usuario\\AppData\\Local\\Programs\\Python\\Python311\\Lib\\site-packages\\pandas\\core\\indexes\\base.py:6699\u001b[0m, in \u001b[0;36mIndex.drop\u001b[1;34m(self, labels, errors)\u001b[0m\n\u001b[0;32m   6697\u001b[0m \u001b[39mif\u001b[39;00m mask\u001b[39m.\u001b[39many():\n\u001b[0;32m   6698\u001b[0m     \u001b[39mif\u001b[39;00m errors \u001b[39m!=\u001b[39m \u001b[39m\"\u001b[39m\u001b[39mignore\u001b[39m\u001b[39m\"\u001b[39m:\n\u001b[1;32m-> 6699\u001b[0m         \u001b[39mraise\u001b[39;00m \u001b[39mKeyError\u001b[39;00m(\u001b[39mf\u001b[39m\u001b[39m\"\u001b[39m\u001b[39m{\u001b[39;00m\u001b[39mlist\u001b[39m(labels[mask])\u001b[39m}\u001b[39;00m\u001b[39m not found in axis\u001b[39m\u001b[39m\"\u001b[39m)\n\u001b[0;32m   6700\u001b[0m     indexer \u001b[39m=\u001b[39m indexer[\u001b[39m~\u001b[39mmask]\n\u001b[0;32m   6701\u001b[0m \u001b[39mreturn\u001b[39;00m \u001b[39mself\u001b[39m\u001b[39m.\u001b[39mdelete(indexer)\n",
      "\u001b[1;31mKeyError\u001b[0m: \"['Subepígrafe'] not found in axis\""
     ]
    }
   ],
   "source": [
    "df_verdes.drop(\"Subepígrafe\",axis=1,inplace=True)"
   ]
  },
  {
   "cell_type": "code",
   "execution_count": null,
   "metadata": {},
   "outputs": [],
   "source": [
    "df_verdes.drop(\"Número de archivo\",axis=1,inplace=True)"
   ]
  },
  {
   "cell_type": "code",
   "execution_count": 12,
   "metadata": {},
   "outputs": [],
   "source": [
    "df_verdes.drop(\"Naturaleza del inmueble\",axis=1,inplace=True)"
   ]
  },
  {
   "cell_type": "code",
   "execution_count": 13,
   "metadata": {},
   "outputs": [
    {
     "data": {
      "text/plain": [
       "array(['CALLE DE BAILEN NUM 15', 'CALLE DE BAILEN NUM 6',\n",
       "       'CALLE DEL MESON DE PAREDES, NUM. 37 C/V C/ DE AMPARO NUM 26', ...,\n",
       "       'CALLE DE ESTANISLAO PÉREZ PITA NUM 59-71',\n",
       "       'AVENIDA DE JOSÉ ANTONIO CORRALES NUM 94',\n",
       "       'CALLE DE TRESPADERNE NUM 18'], dtype=object)"
      ]
     },
     "execution_count": 13,
     "metadata": {},
     "output_type": "execute_result"
    }
   ],
   "source": [
    "df_verdes[\"Situación Destino\"].unique()"
   ]
  },
  {
   "cell_type": "code",
   "execution_count": 14,
   "metadata": {},
   "outputs": [
    {
     "name": "stdout",
     "output_type": "stream",
     "text": [
      "<class 'pandas.core.frame.DataFrame'>\n",
      "RangeIndex: 1489 entries, 0 to 1488\n",
      "Data columns (total 6 columns):\n",
      " #   Column             Non-Null Count  Dtype  \n",
      "---  ------             --------------  -----  \n",
      " 0   Distrito           1489 non-null   object \n",
      " 1   Apartado           1489 non-null   object \n",
      " 2   Número de archivo  1489 non-null   float64\n",
      " 3   Situación Destino  1489 non-null   object \n",
      " 4   Destino            1489 non-null   object \n",
      " 5   Solar              1489 non-null   object \n",
      "dtypes: float64(1), object(5)\n",
      "memory usage: 69.9+ KB\n"
     ]
    }
   ],
   "source": [
    "df_verdes.info()"
   ]
  },
  {
   "cell_type": "code",
   "execution_count": 15,
   "metadata": {},
   "outputs": [],
   "source": [
    "df_verdes.to_csv('../data/madrid/zonas_verdes/conv_verd.csv', index=False)"
   ]
  },
  {
   "cell_type": "code",
   "execution_count": 17,
   "metadata": {},
   "outputs": [],
   "source": [
    "df_verdes.to_json('../data/madrid/zonas_verdes/zonas_verdes.json', orient='records',force_ascii=False)"
   ]
  }
 ],
 "metadata": {
  "kernelspec": {
   "display_name": "Python 3",
   "language": "python",
   "name": "python3"
  },
  "language_info": {
   "codemirror_mode": {
    "name": "ipython",
    "version": 3
   },
   "file_extension": ".py",
   "mimetype": "text/x-python",
   "name": "python",
   "nbconvert_exporter": "python",
   "pygments_lexer": "ipython3",
   "version": "3.11.4"
  },
  "orig_nbformat": 4
 },
 "nbformat": 4,
 "nbformat_minor": 2
}
