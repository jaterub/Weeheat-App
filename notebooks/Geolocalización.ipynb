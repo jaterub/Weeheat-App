{
 "cells": [
  {
   "cell_type": "code",
   "execution_count": 1,
   "metadata": {},
   "outputs": [
    {
     "name": "stdout",
     "output_type": "stream",
     "text": [
      "Requirement already satisfied: geopy in c:\\users\\user\\appdata\\local\\programs\\python\\python310\\lib\\site-packages (2.3.0)\n",
      "Requirement already satisfied: geographiclib<3,>=1.52 in c:\\users\\user\\appdata\\local\\programs\\python\\python310\\lib\\site-packages (from geopy) (2.0)\n",
      "Note: you may need to restart the kernel to use updated packages.\n"
     ]
    },
    {
     "name": "stderr",
     "output_type": "stream",
     "text": [
      "\n",
      "[notice] A new release of pip is available: 23.1.2 -> 23.2\n",
      "[notice] To update, run: python.exe -m pip install --upgrade pip\n"
     ]
    }
   ],
   "source": [
    "# pip install geopy\n"
   ]
  },
  {
   "cell_type": "code",
   "execution_count": 2,
   "metadata": {},
   "outputs": [
    {
     "name": "stdout",
     "output_type": "stream",
     "text": [
      "Collecting pyproj\n",
      "  Downloading pyproj-3.6.0-cp310-cp310-win_amd64.whl (5.7 MB)\n",
      "                                              0.0/5.7 MB ? eta -:--:--\n",
      "     ----                                     0.7/5.7 MB 41.0 MB/s eta 0:00:01\n",
      "     ----------                               1.5/5.7 MB 18.5 MB/s eta 0:00:01\n",
      "     ------------------                       2.7/5.7 MB 21.6 MB/s eta 0:00:01\n",
      "     ------------------------------           4.4/5.7 MB 25.5 MB/s eta 0:00:01\n",
      "     ---------------------------------------- 5.7/5.7 MB 26.2 MB/s eta 0:00:00\n",
      "Requirement already satisfied: certifi in c:\\users\\user\\appdata\\local\\programs\\python\\python310\\lib\\site-packages (from pyproj) (2022.12.7)\n",
      "Installing collected packages: pyproj\n",
      "Successfully installed pyproj-3.6.0\n",
      "Note: you may need to restart the kernel to use updated packages.\n"
     ]
    },
    {
     "name": "stderr",
     "output_type": "stream",
     "text": [
      "  WARNING: The script pyproj.exe is installed in 'c:\\Users\\User\\AppData\\Local\\Programs\\Python\\Python310\\Scripts' which is not on PATH.\n",
      "  Consider adding this directory to PATH or, if you prefer to suppress this warning, use --no-warn-script-location.\n",
      "\n",
      "[notice] A new release of pip is available: 23.1.2 -> 23.2\n",
      "[notice] To update, run: python.exe -m pip install --upgrade pip\n"
     ]
    }
   ],
   "source": [
    "# pip install pyproj"
   ]
  },
  {
   "cell_type": "code",
   "execution_count": 9,
   "metadata": {},
   "outputs": [
    {
     "name": "stdout",
     "output_type": "stream",
     "text": [
      "Latitud: 40.011751\n",
      "Longitud: -3.0203862\n",
      "Coordenada X: 498260.1384174299\n",
      "Coordenada Y: 4429061.665019685\n"
     ]
    }
   ],
   "source": [
    "from geopy.geocoders import Nominatim\n",
    "from pyproj import Transformer\n",
    "\n",
    "def get_geolocation(address):\n",
    "    geolocator = Nominatim(user_agent=\"geolocator\")\n",
    "    location = geolocator.geocode(address)\n",
    "    return location.latitude, location.longitude\n",
    "\n",
    "def convert_to_etrs89_utm(latitude, longitude):\n",
    "    transformer = Transformer.from_crs(\"EPSG:4326\", \"EPSG:25830\")\n",
    "    x, y = transformer.transform(latitude, longitude)\n",
    "    return x, y\n",
    "\n",
    "if __name__ == \"__main__\":\n",
    "    address = input(\"Introduce la dirección: \")\n",
    "\n",
    "    try:\n",
    "        latitude, longitude = get_geolocation(address)\n",
    "        x, y = convert_to_etrs89_utm(latitude, longitude)\n",
    "\n",
    "        print(f\"Latitud: {latitude}\")\n",
    "        print(f\"Longitud: {longitude}\")\n",
    "        print(f\"Coordenada X: {x}\")\n",
    "        print(f\"Coordenada Y: {y}\")\n",
    "    except AttributeError:\n",
    "        print(\"Dirección no encontrada. Asegúrate de proporcionar una dirección válida.\")\n",
    "    except Exception as e:\n",
    "        print(f\"Ha ocurrido un error: {e}\")\n"
   ]
  },
  {
   "cell_type": "code",
   "execution_count": 10,
   "metadata": {},
   "outputs": [
    {
     "name": "stdout",
     "output_type": "stream",
     "text": [
      "No se pudo obtener la ubicación. Asegúrate de tener activada la geolocalización en tu dispositivo.\n"
     ]
    }
   ],
   "source": [
    "from geopy.geocoders import Nominatim\n",
    "from pyproj import Transformer\n",
    "\n",
    "def get_geolocation():\n",
    "    geolocator = Nominatim(user_agent=\"geolocator\")\n",
    "    location = geolocator.geocode({\"latitude\": None, \"longitude\": None}, exactly_one=True, timeout=10)\n",
    "    return location.latitude, location.longitude\n",
    "\n",
    "def convert_to_etrs89_utm(latitude, longitude):\n",
    "    transformer = Transformer.from_crs(\"EPSG:4326\", \"EPSG:25830\")\n",
    "    x, y = transformer.transform(latitude, longitude)\n",
    "    return x, y\n",
    "\n",
    "if __name__ == \"__main__\":\n",
    "    try:\n",
    "        latitude, longitude = get_geolocation()\n",
    "        x, y = convert_to_etrs89_utm(latitude, longitude)\n",
    "\n",
    "        print(f\"Latitud: {latitude}\")\n",
    "        print(f\"Longitud: {longitude}\")\n",
    "        print(f\"Coordenada X: {x}\")\n",
    "        print(f\"Coordenada Y: {y}\")\n",
    "    except AttributeError:\n",
    "        print(\"No se pudo obtener la ubicación. Asegúrate de tener activada la geolocalización en tu dispositivo.\")\n",
    "    except Exception as e:\n",
    "        print(f\"Ha ocurrido un error: {e}\")\n",
    "\n"
   ]
  }
 ],
 "metadata": {
  "kernelspec": {
   "display_name": "Python 3",
   "language": "python",
   "name": "python3"
  },
  "language_info": {
   "codemirror_mode": {
    "name": "ipython",
    "version": 3
   },
   "file_extension": ".py",
   "mimetype": "text/x-python",
   "name": "python",
   "nbconvert_exporter": "python",
   "pygments_lexer": "ipython3",
   "version": "3.10.11"
  },
  "orig_nbformat": 4
 },
 "nbformat": 4,
 "nbformat_minor": 2
}
